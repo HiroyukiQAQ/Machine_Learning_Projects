{
 "cells": [
  {
   "cell_type": "code",
   "execution_count": 25,
   "metadata": {},
   "outputs": [],
   "source": [
    "import tensorflow as tf\n",
    "import numpy as np\n",
    "import cv2 as cv\n",
    "from sklearn.metrics import confusion_matrix\n",
    "from sklearn.metrics import classification_report\n",
    "import pandas as pd\n",
    "import matplotlib.pyplot as plt\n",
    "import itertools"
   ]
  },
  {
   "cell_type": "code",
   "execution_count": null,
   "metadata": {},
   "outputs": [],
   "source": [
    "input_fn = ''\n",
    "out_fn = ''"
   ]
  },
  {
   "cell_type": "code",
   "execution_count": null,
   "metadata": {},
   "outputs": [],
   "source": [
    "test_img = cv2.imread(input_fn)"
   ]
  },
  {
   "cell_type": "code",
   "execution_count": 7,
   "metadata": {},
   "outputs": [],
   "source": [
    "def csv_reading(f_name):\n",
    "    with open(f_name, 'r') as data:\n",
    "        temp = pd.read_csv(data)\n",
    "    temp = temp.values.tolist()\n",
    "    for i in range(len(temp)):\n",
    "        temp[i][1] = temp[i][1].split(' ')\n",
    "    images = [item[1] for item in temp]\n",
    "    for i in range(len(images)):\n",
    "        images[i] = np.asarray([int(x) for x in images[i]])\n",
    "        images[i] = images[i].reshape([48, 48, 1])\n",
    "    labels = [item[0] for item in temp]\n",
    "    return np.asarray(images), labels"
   ]
  },
  {
   "cell_type": "code",
   "execution_count": 8,
   "metadata": {},
   "outputs": [],
   "source": [
    "images, labels = csv_reading('fer2013.csv')"
   ]
  },
  {
   "cell_type": "code",
   "execution_count": 11,
   "metadata": {},
   "outputs": [],
   "source": [
    "test_labels = labels[32298:]\n",
    "test_img = images[32298:]\n",
    "predict_labels = []"
   ]
  },
  {
   "cell_type": "code",
   "execution_count": 14,
   "metadata": {},
   "outputs": [
    {
     "name": "stdout",
     "output_type": "stream",
     "text": [
      "INFO:tensorflow:Restoring parameters from b'DeepCNN_Softmax/variables/variables'\n",
      "[4 4 4 ... 6 3 4]\n"
     ]
    }
   ],
   "source": [
    "with tf.Session(graph=tf.Graph()) as sess1:\n",
    "    tf.saved_model.loader.load(\n",
    "        sess1,\n",
    "        [tf.saved_model.tag_constants.SERVING],\n",
    "        \"DeepCNN_Softmax\"\n",
    "    )\n",
    "\n",
    "    prediction = sess1.run(\n",
    "        'Softmax:0',\n",
    "        feed_dict={\n",
    "            'Placeholder:0': test_img\n",
    "        }\n",
    "    )\n",
    "    result = np.argmax(prediction, axis=1)\n",
    "    print(np.argmax(prediction, axis=1))\n",
    "    "
   ]
  },
  {
   "cell_type": "code",
   "execution_count": 28,
   "metadata": {},
   "outputs": [],
   "source": [
    "target_names = ['Angry', 'Disgust', 'Fear', 'Happy', 'Sad', 'Surprise', 'Neutral']"
   ]
  },
  {
   "cell_type": "code",
   "execution_count": 29,
   "metadata": {},
   "outputs": [
    {
     "name": "stdout",
     "output_type": "stream",
     "text": [
      "             precision    recall  f1-score   support\n",
      "\n",
      "      Angry       0.52      0.46      0.49       491\n",
      "    Disgust       0.49      0.42      0.45        55\n",
      "       Fear       0.46      0.24      0.32       528\n",
      "      Happy       0.76      0.84      0.80       879\n",
      "        Sad       0.40      0.55      0.46       594\n",
      "   Surprise       0.72      0.71      0.72       416\n",
      "    Neutral       0.55      0.55      0.55       626\n",
      "\n",
      "avg / total       0.58      0.58      0.57      3589\n",
      "\n"
     ]
    }
   ],
   "source": [
    "print(classification_report(test_labels, result, target_names=target_names))"
   ]
  },
  {
   "cell_type": "code",
   "execution_count": 30,
   "metadata": {},
   "outputs": [],
   "source": [
    "def plot_confusion_matrix(cm, classes,\n",
    "                          normalize=False,\n",
    "                          title='Confusion matrix',\n",
    "                          cmap=plt.cm.Blues):\n",
    "    \"\"\"\n",
    "    This function prints and plots the confusion matrix.\n",
    "    Normalization can be applied by setting `normalize=True`.\n",
    "    \"\"\"\n",
    "    if normalize:\n",
    "        cm = cm.astype('float') / cm.sum(axis=1)[:, np.newaxis]\n",
    "        print(\"Normalized confusion matrix\")\n",
    "    else:\n",
    "        print('Confusion matrix, without normalization')\n",
    "\n",
    "    print(cm)\n",
    "\n",
    "    plt.imshow(cm, interpolation='nearest', cmap=cmap)\n",
    "    plt.title(title)\n",
    "    plt.colorbar()\n",
    "    tick_marks = np.arange(len(classes))\n",
    "    plt.xticks(tick_marks, classes, rotation=45)\n",
    "    plt.yticks(tick_marks, classes)\n",
    "\n",
    "    fmt = '.2f' if normalize else 'd'\n",
    "    thresh = cm.max() / 2.\n",
    "    for i, j in itertools.product(range(cm.shape[0]), range(cm.shape[1])):\n",
    "        plt.text(j, i, format(cm[i, j], fmt),\n",
    "                 horizontalalignment=\"center\",\n",
    "                 color=\"white\" if cm[i, j] > thresh else \"black\")\n",
    "\n",
    "    plt.tight_layout()\n",
    "    plt.ylabel('True label')\n",
    "    plt.xlabel('Predicted label')"
   ]
  },
  {
   "cell_type": "code",
   "execution_count": 33,
   "metadata": {},
   "outputs": [
    {
     "name": "stdout",
     "output_type": "stream",
     "text": [
      "Normalized confusion matrix\n",
      "[[0.46232179 0.01629328 0.05906314 0.08553971 0.25661914 0.02240326\n",
      "  0.09775967]\n",
      " [0.27272727 0.41818182 0.05454545 0.07272727 0.14545455 0.01818182\n",
      "  0.01818182]\n",
      " [0.14393939 0.01325758 0.24431818 0.07765152 0.28787879 0.12121212\n",
      "  0.11174242]\n",
      " [0.02161547 0.         0.01478953 0.8407281  0.06029579 0.01365188\n",
      "  0.04891923]\n",
      " [0.07239057 0.01178451 0.07575758 0.08585859 0.54713805 0.02020202\n",
      "  0.18686869]\n",
      " [0.03365385 0.00240385 0.07932692 0.07932692 0.03846154 0.71394231\n",
      "  0.05288462]\n",
      " [0.06230032 0.00159744 0.04472843 0.09265176 0.22523962 0.02555911\n",
      "  0.54792332]]\n"
     ]
    },
    {
     "data": {
      "image/png": "[encoded data removed]",
      "text/plain": [
       "<Figure size 432x288 with 2 Axes>"
      ]
     },
     "metadata": {},
     "output_type": "display_data"
    }
   ],
   "source": [
    "plt.figure()\n",
    "plot_confusion_matrix(confusion_matrix(test_labels, result), classes=target_names,\n",
    "                      title='Confusion matrix, with normalization', normalize=True)\n",
    "plt.show()"
   ]
  },
  {
   "cell_type": "code",
   "execution_count": null,
   "metadata": {},
   "outputs": [],
   "source": [
    "with tf.Session(graph=tf.Graph()) as sess2:\n",
    "    tf.saved_model.loader.load(\n",
    "        sess2,\n",
    "        [tf.saved_model.tag_constants.SERVING],\n",
    "        \"DeepCNN_Loss_Accuracy\"\n",
    "    )\n",
    "\n",
    "    loss1, accuracy1 = sess.run(\n",
    "        ['Mean:0','Mean_1:0'],\n",
    "        feed_dict={\n",
    "            'Placeholder:0': test_img,\n",
    "            'Placeholder_1:0': test_labels})\n",
    "    \n",
    "\n",
    "    print(loss1, accuracy1)"
   ]
  },
  {
   "cell_type": "code",
   "execution_count": 32,
   "metadata": {},
   "outputs": [],
   "source": [
    "# np.savez('fer2013_data_set.npz', images = images, labels = labels)"
   ]
  },
  {
   "cell_type": "code",
   "execution_count": null,
   "metadata": {},
   "outputs": [],
   "source": []
  }
 ],
 "metadata": {
  "kernelspec": {
   "display_name": "Python 3",
   "language": "python",
   "name": "python3"
  },
  "language_info": {
   "codemirror_mode": {
    "name": "ipython",
    "version": 3
   },
   "file_extension": ".py",
   "mimetype": "text/x-python",
   "name": "python",
   "nbconvert_exporter": "python",
   "pygments_lexer": "ipython3",
   "version": "3.6.3"
  }
 },
 "nbformat": 4,
 "nbformat_minor": 2
}
