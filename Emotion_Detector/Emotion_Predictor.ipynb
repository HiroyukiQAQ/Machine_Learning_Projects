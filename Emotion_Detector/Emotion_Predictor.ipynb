{
 "cells": [
  {
   "cell_type": "code",
   "execution_count": 2,
   "metadata": {},
   "outputs": [],
   "source": [
    "import tensorflow as tf\n",
    "import numpy as np\n",
    "import cv2 as cv"
   ]
  },
  {
   "cell_type": "code",
   "execution_count": null,
   "metadata": {},
   "outputs": [],
   "source": [
    "with tf.Session(graph=tf.Graph()) as sess1:\n",
    "    tf.saved_model.loader.load(\n",
    "        sess1,\n",
    "        [tf.saved_model.tag_constants.SERVING],\n",
    "        \"DeepCNN_Softmax\"\n",
    "    )\n",
    "\n",
    "    prediction = sess.run(\n",
    "        'Softmax:0',\n",
    "        feed_dict={\n",
    "            'Placeholder:0': images[0].reshape([1, 48, 48, 1])\n",
    "        }\n",
    "    )\n",
    "\n",
    "    print(np.argmax(prediction))"
   ]
  },
  {
   "cell_type": "code",
   "execution_count": null,
   "metadata": {},
   "outputs": [],
   "source": [
    "with tf.Session(graph=tf.Graph()) as sess2:\n",
    "    tf.saved_model.loader.load(\n",
    "        sess2,\n",
    "        [tf.saved_model.tag_constants.SERVING],\n",
    "        \"DeepCNN_Loss_Accuracy\"\n",
    "    )\n",
    "\n",
    "    loss1, accuracy1 = sess.run(\n",
    "        ['Mean:0','Mean_1:0'],\n",
    "        feed_dict={\n",
    "            'Placeholder:0': test_img,\n",
    "            'Placeholder_1:0': test_labels})\n",
    "    \n",
    "\n",
    "    print(loss1, accuracy1)"
   ]
  }
 ],
 "metadata": {
  "kernelspec": {
   "display_name": "Python 3",
   "language": "python",
   "name": "python3"
  },
  "language_info": {
   "codemirror_mode": {
    "name": "ipython",
    "version": 3
   },
   "file_extension": ".py",
   "mimetype": "text/x-python",
   "name": "python",
   "nbconvert_exporter": "python",
   "pygments_lexer": "ipython3",
   "version": "3.6.5"
  }
 },
 "nbformat": 4,
 "nbformat_minor": 2
}
