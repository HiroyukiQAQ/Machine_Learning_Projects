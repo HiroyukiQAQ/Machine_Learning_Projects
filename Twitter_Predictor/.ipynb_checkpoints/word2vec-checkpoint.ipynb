{
 "cells": [
  {
   "cell_type": "code",
   "execution_count": null,
   "metadata": {},
   "outputs": [],
   "source": []
  },
  {
   "cell_type": "code",
   "execution_count": 23,
   "metadata": {},
   "outputs": [],
   "source": [
    "import pandas as pd\n",
    "import en_core_web_lg \n",
    "import numpy as np"
   ]
  },
  {
   "cell_type": "code",
   "execution_count": null,
   "metadata": {},
   "outputs": [],
   "source": []
  },
  {
   "cell_type": "code",
   "execution_count": 2,
   "metadata": {},
   "outputs": [],
   "source": [
    "def csv_reading(f_name):\n",
    "    \n",
    "    with open(f_name, \"r\", encoding='utf8') as train:\n",
    "        csvfile = pd.read_csv(train)\n",
    "    \n",
    "    csvfile = csvfile.values.tolist()\n",
    "    \n",
    "    labels = [row[0] for row in csvfile]\n",
    "    twitters = [row[1] for row in csvfile]\n",
    "    \n",
    "    return labels, twitters"
   ]
  },
  {
   "cell_type": "code",
   "execution_count": 3,
   "metadata": {},
   "outputs": [],
   "source": [
    "train_labels, train_twitters = csv_reading('train.csv')\n",
    "_, test_twitters = csv_reading('test.csv')"
   ]
  },
  {
   "cell_type": "code",
   "execution_count": 4,
   "metadata": {},
   "outputs": [],
   "source": [
    "def remove_url(twitters):        \n",
    "    \n",
    "    twitters_iter = twitters.__iter__()\n",
    "        \n",
    "    for i in range(len(twitters)):\n",
    "        twitters[i] = twitters_iter.__next__().split('http')[0]    \n",
    "    \n",
    "    return twitters"
   ]
  },
  {
   "cell_type": "code",
   "execution_count": 5,
   "metadata": {},
   "outputs": [],
   "source": [
    "train_twitters = remove_url(train_twitters)\n",
    "test_twitters = remove_url(test_twitters)"
   ]
  },
  {
   "cell_type": "code",
   "execution_count": 6,
   "metadata": {},
   "outputs": [],
   "source": [
    "nlp = en_core_web_lg.load()"
   ]
  },
  {
   "cell_type": "code",
   "execution_count": 7,
   "metadata": {},
   "outputs": [],
   "source": [
    "def word2vec(twitters):\n",
    "    \n",
    "    twitters_vectors = [None]*len(twitters)     \n",
    "    \n",
    "    for i in range(len(twitters)):\n",
    "       \n",
    "        twitter_doc = nlp(twitters[i]) \n",
    "        twitter_vector = [None]*len(twitter_doc)\n",
    "       \n",
    "        for j in range(len(twitter_doc)):\n",
    "            twitter_vector[j] = twitter_doc[j].vector\n",
    "        \n",
    "        twitters_vectors[i] = twitter_vector    \n",
    "    \n",
    "    return twitters_vectors"
   ]
  },
  {
   "cell_type": "code",
   "execution_count": 8,
   "metadata": {},
   "outputs": [],
   "source": [
    "train_twitters = word2vec(train_twitters)\n",
    "test_twitters = word2vec(test_twitters)"
   ]
  },
  {
   "cell_type": "code",
   "execution_count": 13,
   "metadata": {},
   "outputs": [],
   "source": [
    "def numeric_label(labels):\n",
    "    for i in range(len(labels)):\n",
    "        if labels[i] == 'HillaryClinton':\n",
    "            labels[i] = 0\n",
    "        elif labels[i] == 'realDonaldTrump':\n",
    "            labels[i] = 1\n",
    "    \n",
    "    return labels"
   ]
  },
  {
   "cell_type": "code",
   "execution_count": 20,
   "metadata": {},
   "outputs": [],
   "source": [
    "train_labels = numeric_label(train_labels)"
   ]
  },
  {
   "cell_type": "code",
   "execution_count": 24,
   "metadata": {},
   "outputs": [],
   "source": [
    "np.savez('embedding_matrix.npz', train_matrix=train_twitters, test_matrix=test_twitters, train_labels=train_labels)"
   ]
  }
 ],
 "metadata": {
  "kernelspec": {
   "display_name": "Python 3",
   "language": "python",
   "name": "python3"
  },
  "language_info": {
   "codemirror_mode": {
    "name": "ipython",
    "version": 3
   },
   "file_extension": ".py",
   "mimetype": "text/x-python",
   "name": "python",
   "nbconvert_exporter": "python",
   "pygments_lexer": "ipython3",
   "version": "3.6.3"
  }
 },
 "nbformat": 4,
 "nbformat_minor": 2
}
